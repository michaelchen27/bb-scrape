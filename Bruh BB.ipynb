{
 "cells": [
  {
   "cell_type": "markdown",
   "metadata": {},
   "source": [
    "### Imports"
   ]
  },
  {
   "cell_type": "code",
   "execution_count": 1,
   "metadata": {},
   "outputs": [],
   "source": [
    "from bs4 import BeautifulSoup\n",
    "import selenium.webdriver as webdriver\n",
    "import openpyxl as xl\n",
    "import os"
   ]
  },
  {
   "cell_type": "markdown",
   "metadata": {},
   "source": [
    "### Excel Path"
   ]
  },
  {
   "cell_type": "code",
   "execution_count": 3,
   "metadata": {},
   "outputs": [],
   "source": [
    "wbPath = 'C:\\\\Users\\\\Michael\\\\Desktop\\\\bb_scrape\\\\scraped_sheet.xlsx'\n",
    "chromeDriverPath = \"C:\\\\Program Files (x86)\\\\chromedriver.exe\"\n",
    "\n",
    "wb = xl.load_workbook(wbPath)\n",
    "sheet = wb['Sheet1']"
   ]
  },
  {
   "cell_type": "markdown",
   "metadata": {},
   "source": [
    "### Crawl all pages"
   ]
  },
  {
   "cell_type": "code",
   "execution_count": 4,
   "metadata": {},
   "outputs": [
    {
     "name": "stdout",
     "output_type": "stream",
     "text": [
      "Page URL Generated\n",
      "Append https://barangbaku.com/product/Minyak-Tanusan-GPXI3\n",
      "Append https://barangbaku.com/product/Sambal-Teri-Aja-fKj3A\n",
      "Append https://barangbaku.com/product/Sambal-Teri-Kacang-PStBj\n",
      "Append https://barangbaku.com/product/Sayap-Ayam-ahfXP\n",
      "Append https://barangbaku.com/product/Kentang-Goreng-Beku-25Kg-I5XhX\n",
      "Append https://barangbaku.com/product/Ayam-Karkas-11-Frozen-9VcE5\n",
      "Append https://barangbaku.com/product/Boneless-Dada-gnZ0L\n",
      "Append https://barangbaku.com/product/Boneless-Paha-Ayam-Pvjoo\n",
      "Append https://barangbaku.com/product/Cumi-Tube-Kupas-Poseidon-1-kg--Frozen-Seafood-DNIQP\n",
      "Append https://barangbaku.com/product/Iga-Sapi-9Zi8M\n",
      "Append https://barangbaku.com/product/Daging-Teriyaki-1-Kg-R3hmB\n",
      "Append https://barangbaku.com/product/Buntut-Sapi-1-Kg-OHqeq\n"
     ]
    },
    {
     "ename": "NoSuchWindowException",
     "evalue": "Message: no such window: target window already closed\nfrom unknown error: web view not found\n  (Session info: chrome=92.0.4515.159)\n",
     "output_type": "error",
     "traceback": [
      "\u001b[1;31m---------------------------------------------------------------------------\u001b[0m",
      "\u001b[1;31mNoSuchWindowException\u001b[0m                     Traceback (most recent call last)",
      "\u001b[1;32m<ipython-input-4-cb9da25c22f9>\u001b[0m in \u001b[0;36m<module>\u001b[1;34m\u001b[0m\n\u001b[0;32m      5\u001b[0m     \u001b[0mstart_url\u001b[0m \u001b[1;33m=\u001b[0m \u001b[1;34mf\"https://barangbaku.com/search?page={n+1}\"\u001b[0m\u001b[1;33m\u001b[0m\u001b[1;33m\u001b[0m\u001b[0m\n\u001b[0;32m      6\u001b[0m     \u001b[0mdriver\u001b[0m\u001b[1;33m.\u001b[0m\u001b[0mget\u001b[0m\u001b[1;33m(\u001b[0m\u001b[0mstart_url\u001b[0m\u001b[1;33m)\u001b[0m\u001b[1;33m\u001b[0m\u001b[1;33m\u001b[0m\u001b[0m\n\u001b[1;32m----> 7\u001b[1;33m     \u001b[0msoup\u001b[0m \u001b[1;33m=\u001b[0m \u001b[0mBeautifulSoup\u001b[0m\u001b[1;33m(\u001b[0m\u001b[0mdriver\u001b[0m\u001b[1;33m.\u001b[0m\u001b[0mpage_source\u001b[0m\u001b[1;33m,\u001b[0m \u001b[0mfeatures\u001b[0m\u001b[1;33m=\u001b[0m\u001b[1;34m\"lxml\"\u001b[0m\u001b[1;33m)\u001b[0m\u001b[1;33m\u001b[0m\u001b[1;33m\u001b[0m\u001b[0m\n\u001b[0m\u001b[0;32m      8\u001b[0m     \u001b[0mprint\u001b[0m\u001b[1;33m(\u001b[0m\u001b[1;34m\"Page URL Generated\"\u001b[0m\u001b[1;33m)\u001b[0m\u001b[1;33m\u001b[0m\u001b[1;33m\u001b[0m\u001b[0m\n\u001b[0;32m      9\u001b[0m \u001b[1;33m\u001b[0m\u001b[0m\n",
      "\u001b[1;32mD:\\anaconda3\\lib\\site-packages\\selenium\\webdriver\\remote\\webdriver.py\u001b[0m in \u001b[0;36mpage_source\u001b[1;34m(self)\u001b[0m\n\u001b[0;32m    677\u001b[0m             \u001b[0mdriver\u001b[0m\u001b[1;33m.\u001b[0m\u001b[0mpage_source\u001b[0m\u001b[1;33m\u001b[0m\u001b[1;33m\u001b[0m\u001b[0m\n\u001b[0;32m    678\u001b[0m         \"\"\"\n\u001b[1;32m--> 679\u001b[1;33m         \u001b[1;32mreturn\u001b[0m \u001b[0mself\u001b[0m\u001b[1;33m.\u001b[0m\u001b[0mexecute\u001b[0m\u001b[1;33m(\u001b[0m\u001b[0mCommand\u001b[0m\u001b[1;33m.\u001b[0m\u001b[0mGET_PAGE_SOURCE\u001b[0m\u001b[1;33m)\u001b[0m\u001b[1;33m[\u001b[0m\u001b[1;34m'value'\u001b[0m\u001b[1;33m]\u001b[0m\u001b[1;33m\u001b[0m\u001b[1;33m\u001b[0m\u001b[0m\n\u001b[0m\u001b[0;32m    680\u001b[0m \u001b[1;33m\u001b[0m\u001b[0m\n\u001b[0;32m    681\u001b[0m     \u001b[1;32mdef\u001b[0m \u001b[0mclose\u001b[0m\u001b[1;33m(\u001b[0m\u001b[0mself\u001b[0m\u001b[1;33m)\u001b[0m\u001b[1;33m:\u001b[0m\u001b[1;33m\u001b[0m\u001b[1;33m\u001b[0m\u001b[0m\n",
      "\u001b[1;32mD:\\anaconda3\\lib\\site-packages\\selenium\\webdriver\\remote\\webdriver.py\u001b[0m in \u001b[0;36mexecute\u001b[1;34m(self, driver_command, params)\u001b[0m\n\u001b[0;32m    319\u001b[0m         \u001b[0mresponse\u001b[0m \u001b[1;33m=\u001b[0m \u001b[0mself\u001b[0m\u001b[1;33m.\u001b[0m\u001b[0mcommand_executor\u001b[0m\u001b[1;33m.\u001b[0m\u001b[0mexecute\u001b[0m\u001b[1;33m(\u001b[0m\u001b[0mdriver_command\u001b[0m\u001b[1;33m,\u001b[0m \u001b[0mparams\u001b[0m\u001b[1;33m)\u001b[0m\u001b[1;33m\u001b[0m\u001b[1;33m\u001b[0m\u001b[0m\n\u001b[0;32m    320\u001b[0m         \u001b[1;32mif\u001b[0m \u001b[0mresponse\u001b[0m\u001b[1;33m:\u001b[0m\u001b[1;33m\u001b[0m\u001b[1;33m\u001b[0m\u001b[0m\n\u001b[1;32m--> 321\u001b[1;33m             \u001b[0mself\u001b[0m\u001b[1;33m.\u001b[0m\u001b[0merror_handler\u001b[0m\u001b[1;33m.\u001b[0m\u001b[0mcheck_response\u001b[0m\u001b[1;33m(\u001b[0m\u001b[0mresponse\u001b[0m\u001b[1;33m)\u001b[0m\u001b[1;33m\u001b[0m\u001b[1;33m\u001b[0m\u001b[0m\n\u001b[0m\u001b[0;32m    322\u001b[0m             response['value'] = self._unwrap_value(\n\u001b[0;32m    323\u001b[0m                 response.get('value', None))\n",
      "\u001b[1;32mD:\\anaconda3\\lib\\site-packages\\selenium\\webdriver\\remote\\errorhandler.py\u001b[0m in \u001b[0;36mcheck_response\u001b[1;34m(self, response)\u001b[0m\n\u001b[0;32m    240\u001b[0m                 \u001b[0malert_text\u001b[0m \u001b[1;33m=\u001b[0m \u001b[0mvalue\u001b[0m\u001b[1;33m[\u001b[0m\u001b[1;34m'alert'\u001b[0m\u001b[1;33m]\u001b[0m\u001b[1;33m.\u001b[0m\u001b[0mget\u001b[0m\u001b[1;33m(\u001b[0m\u001b[1;34m'text'\u001b[0m\u001b[1;33m)\u001b[0m\u001b[1;33m\u001b[0m\u001b[1;33m\u001b[0m\u001b[0m\n\u001b[0;32m    241\u001b[0m             \u001b[1;32mraise\u001b[0m \u001b[0mexception_class\u001b[0m\u001b[1;33m(\u001b[0m\u001b[0mmessage\u001b[0m\u001b[1;33m,\u001b[0m \u001b[0mscreen\u001b[0m\u001b[1;33m,\u001b[0m \u001b[0mstacktrace\u001b[0m\u001b[1;33m,\u001b[0m \u001b[0malert_text\u001b[0m\u001b[1;33m)\u001b[0m\u001b[1;33m\u001b[0m\u001b[1;33m\u001b[0m\u001b[0m\n\u001b[1;32m--> 242\u001b[1;33m         \u001b[1;32mraise\u001b[0m \u001b[0mexception_class\u001b[0m\u001b[1;33m(\u001b[0m\u001b[0mmessage\u001b[0m\u001b[1;33m,\u001b[0m \u001b[0mscreen\u001b[0m\u001b[1;33m,\u001b[0m \u001b[0mstacktrace\u001b[0m\u001b[1;33m)\u001b[0m\u001b[1;33m\u001b[0m\u001b[1;33m\u001b[0m\u001b[0m\n\u001b[0m\u001b[0;32m    243\u001b[0m \u001b[1;33m\u001b[0m\u001b[0m\n\u001b[0;32m    244\u001b[0m     \u001b[1;32mdef\u001b[0m \u001b[0m_value_or_default\u001b[0m\u001b[1;33m(\u001b[0m\u001b[0mself\u001b[0m\u001b[1;33m,\u001b[0m \u001b[0mobj\u001b[0m\u001b[1;33m,\u001b[0m \u001b[0mkey\u001b[0m\u001b[1;33m,\u001b[0m \u001b[0mdefault\u001b[0m\u001b[1;33m)\u001b[0m\u001b[1;33m:\u001b[0m\u001b[1;33m\u001b[0m\u001b[1;33m\u001b[0m\u001b[0m\n",
      "\u001b[1;31mNoSuchWindowException\u001b[0m: Message: no such window: target window already closed\nfrom unknown error: web view not found\n  (Session info: chrome=92.0.4515.159)\n"
     ]
    }
   ],
   "source": [
    "driver = webdriver.Chrome(executable_path = chromeDriverPath)\n",
    "\n",
    "productUrlList = []\n",
    "for n in range(7):\n",
    "    start_url = f\"https://barangbaku.com/search?page={n+1}\"\n",
    "    driver.get(start_url)\n",
    "    soup = BeautifulSoup(driver.page_source, features=\"lxml\")\n",
    "    print(\"Page URL Generated\")\n",
    "\n",
    "    for productUrl in soup.find_all('a', class_='d-block product-image h-100 d-flex'):\n",
    "        productUrlList.append(productUrl['href'])\n",
    "        print(f\"Append {productUrl['href']}\")"
   ]
  },
  {
   "cell_type": "markdown",
   "metadata": {},
   "source": [
    "### Crawl all products"
   ]
  },
  {
   "cell_type": "code",
   "execution_count": null,
   "metadata": {},
   "outputs": [],
   "source": [
    "row = 2\n",
    "for productUrl in productUrlList:\n",
    "    driver.get(productUrl)\n",
    "    soup = BeautifulSoup(driver.page_source, features=\"lxml\")\n",
    "    \n",
    "    # Get Shop Info\n",
    "    soldByDiv = soup.find('div', class_='sold-by')\n",
    "    shopLink = soldByDiv.find('a', href=True)\n",
    "    if shopLink.find('b') is None:\n",
    "        shopName = shopLink.text\n",
    "    else:\n",
    "        shopName = shopLink.find('b').text\n",
    "        \n",
    "    # Get Shop Location\n",
    "    location = soup.find('div', class_='location-box float-left').text\n",
    "    \n",
    "    # Get categories\n",
    "    ul = soup.find('ul', class_='breadcrumb')\n",
    "        \n",
    "    categoryA = ul.find_all('li')[2]\n",
    "    subcategoryA = ul.find_all('li')[3]\n",
    "    subsubcategoryA = ul.find_all('li')[4]\n",
    "    \n",
    "    category = categoryA.find('a').text\n",
    "    subcategory = subcategoryA.find('a').text\n",
    "    subsubcategory = subsubcategoryA.find('a').text\n",
    "    \n",
    "    # Get Product Name\n",
    "    productName = soup.find('h2', class_='product-title').text.strip()\n",
    "    \n",
    "    # Get Product Price\n",
    "    productPriceDiv = soup.find('div', class_='product-price')\n",
    "    productPrice = productPriceDiv.find('div', class_='strong-700').text.strip()\n",
    "    productPrice = productPrice[2:len(productPrice)].replace(\".\",\"\")\n",
    "    \n",
    "    # Get shop verified\n",
    "    driver.get(soldByDiv.find('a', href=True)['href'])\n",
    "    soup = BeautifulSoup(driver.page_source, features=\"lxml\")\n",
    "    times = soup.find('i', class_='fa fa-times-circle')\n",
    "\n",
    "    verified = times is None\n",
    "    \n",
    "    # Prints\n",
    "    print(f'Product Url: {productUrl}')\n",
    "    print(f'Shop Link: {shopLink.text}')\n",
    "    print(f'Product Name: {productName}')\n",
    "    print(f'Price: {productPrice}')\n",
    "    print(f'Shop Name: {shopName}')\n",
    "    print(f'Shop Location: {location}')\n",
    "    print(f'Category: {category}')\n",
    "    print(f'SubCategory: {subcategory}')\n",
    "    print(f'SubSubCategory: {subsubcategory}')\n",
    "    print(f'Verified Status: {verified}')\n",
    "    \n",
    "    # Write value to sheet\n",
    "    sheet.cell(row, 1).value = productUrl\n",
    "    sheet.cell(row, 2).value = soldByDiv.find('a', href=True)['href']\n",
    "    sheet.cell(row, 3).value = productName\n",
    "    sheet.cell(row, 4).value = productPrice\n",
    "    sheet.cell(row, 5).value = shopName\n",
    "    sheet.cell(row, 6).value = location\n",
    "    sheet.cell(row, 7).value = category\n",
    "    sheet.cell(row, 8).value = subcategory\n",
    "    sheet.cell(row, 9).value = subsubcategory\n",
    "    sheet.cell(row, 10).value = verified\n",
    "\n",
    "    row += 1;\n",
    "    wb.save(wbPath)\n",
    "\n",
    "wb.save(wbPath)\n",
    "print('ALL DONE!\\n')"
   ]
  }
 ],
 "metadata": {
  "kernelspec": {
   "display_name": "Python 3",
   "language": "python",
   "name": "python3"
  },
  "language_info": {
   "codemirror_mode": {
    "name": "ipython",
    "version": 3
   },
   "file_extension": ".py",
   "mimetype": "text/x-python",
   "name": "python",
   "nbconvert_exporter": "python",
   "pygments_lexer": "ipython3",
   "version": "3.8.5"
  }
 },
 "nbformat": 4,
 "nbformat_minor": 4
}
