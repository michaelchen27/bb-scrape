{
 "cells": [
  {
   "cell_type": "markdown",
   "metadata": {},
   "source": [
    "### Imports"
   ]
  },
  {
   "cell_type": "code",
   "execution_count": 1,
   "metadata": {},
   "outputs": [],
   "source": [
    "from bs4 import BeautifulSoup\n",
    "import selenium.webdriver as webdriver\n",
    "import openpyxl as xl\n",
    "import os"
   ]
  },
  {
   "cell_type": "markdown",
   "metadata": {},
   "source": [
    "### Excel Path"
   ]
  },
  {
   "cell_type": "code",
   "execution_count": 2,
   "metadata": {},
   "outputs": [],
   "source": [
    "wbPath = 'C:\\\\Users\\\\Michael\\\\Desktop\\\\bb-scrape\\\\scraped_sheet.xlsx'\n",
    "chromeDriverPath = \"C:\\\\Program Files (x86)\\\\chromedriver.exe\"\n",
    "\n",
    "wb = xl.load_workbook(wbPath)\n",
    "sheet = wb['Sheet1']"
   ]
  },
  {
   "cell_type": "markdown",
   "metadata": {},
   "source": [
    "### Crawl all pages"
   ]
  },
  {
   "cell_type": "code",
   "execution_count": null,
   "metadata": {},
   "outputs": [],
   "source": [
    "driver = webdriver.Chrome(executable_path = chromeDriverPath)\n",
    "\n",
    "productUrlList = []\n",
    "for n in range(7):\n",
    "    start_url = f\"https://barangbaku.com/search?page={n+1}\"\n",
    "    driver.get(start_url)\n",
    "    soup = BeautifulSoup(driver.page_source, features=\"lxml\")\n",
    "    print(\"Page URL Generated\")\n",
    "\n",
    "    for productUrl in soup.find_all('a', class_='d-block product-image h-100 d-flex'):\n",
    "        productUrlList.append(productUrl['href'])\n",
    "        print(f\"Append {productUrl['href']}\")"
   ]
  },
  {
   "cell_type": "markdown",
   "metadata": {},
   "source": [
    "### Crawl all products"
   ]
  },
  {
   "cell_type": "code",
   "execution_count": null,
   "metadata": {},
   "outputs": [],
   "source": [
    "row = 2\n",
    "for productUrl in productUrlList:\n",
    "    driver.get(productUrl)\n",
    "    soup = BeautifulSoup(driver.page_source, features=\"lxml\")\n",
    "    \n",
    "    # Get Shop Info\n",
    "    soldByDiv = soup.find('div', class_='sold-by')\n",
    "    shopLink = soldByDiv.find('a', href=True)\n",
    "    if shopLink.find('b') is None:\n",
    "        shopName = shopLink.text\n",
    "    else:\n",
    "        shopName = shopLink.find('b').text\n",
    "        \n",
    "    # Get Shop Location\n",
    "    location = soup.find('div', class_='location-box float-left').text\n",
    "    \n",
    "    # Get categories\n",
    "    ul = soup.find('ul', class_='breadcrumb')\n",
    "        \n",
    "    categoryA = ul.find_all('li')[2]\n",
    "    subcategoryA = ul.find_all('li')[3]\n",
    "    subsubcategoryA = ul.find_all('li')[4]\n",
    "    \n",
    "    category = categoryA.find('a').text\n",
    "    subcategory = subcategoryA.find('a').text\n",
    "    subsubcategory = subsubcategoryA.find('a').text\n",
    "    \n",
    "    # Get Product Name\n",
    "    productName = soup.find('h2', class_='product-title').text.strip()\n",
    "    \n",
    "    # Get Product Price\n",
    "    productPriceDiv = soup.find('div', class_='product-price')\n",
    "    productPrice = productPriceDiv.find('div', class_='strong-700').text.strip()\n",
    "    productPrice = productPrice[2:len(productPrice)].replace(\".\",\"\")\n",
    "    \n",
    "    # Get shop verified\n",
    "    driver.get(soldByDiv.find('a', href=True)['href'])\n",
    "    soup = BeautifulSoup(driver.page_source, features=\"lxml\")\n",
    "    times = soup.find('i', class_='fa fa-times-circle')\n",
    "\n",
    "    verified = times is None\n",
    "    \n",
    "    # Prints\n",
    "    print(f'Product Url: {productUrl}')\n",
    "    print(f'Shop Link: {shopLink.text}')\n",
    "    print(f'Product Name: {productName}')\n",
    "    print(f'Price: {productPrice}')\n",
    "    print(f'Shop Name: {shopName}')\n",
    "    print(f'Shop Location: {location}')\n",
    "    print(f'Category: {category}')\n",
    "    print(f'SubCategory: {subcategory}')\n",
    "    print(f'SubSubCategory: {subsubcategory}')\n",
    "    print(f'Verified Status: {verified}')\n",
    "    \n",
    "    # Write value to sheet\n",
    "    sheet.cell(row, 1).value = productUrl\n",
    "    sheet.cell(row, 2).value = soldByDiv.find('a', href=True)['href']\n",
    "    sheet.cell(row, 3).value = productName\n",
    "    sheet.cell(row, 4).value = productPrice\n",
    "    sheet.cell(row, 5).value = shopName\n",
    "    sheet.cell(row, 6).value = location\n",
    "    sheet.cell(row, 7).value = category\n",
    "    sheet.cell(row, 8).value = subcategory\n",
    "    sheet.cell(row, 9).value = subsubcategory\n",
    "    sheet.cell(row, 10).value = verified\n",
    "\n",
    "    row += 1;\n",
    "    wb.save(wbPath)\n",
    "\n",
    "wb.save(wbPath)\n",
    "print('ALL DONE!\\n')"
   ]
  },
  {
   "cell_type": "markdown",
   "metadata": {},
   "source": [
    "### Pandas"
   ]
  },
  {
   "cell_type": "code",
   "execution_count": null,
   "metadata": {},
   "outputs": [],
   "source": [
    "import pandas as pd\n",
    "import os\n",
    "import numpy as np\n",
    "pd.set_option('display.max_rows', None)"
   ]
  },
  {
   "cell_type": "code",
   "execution_count": null,
   "metadata": {},
   "outputs": [],
   "source": [
    "wbPath = \"C:\\\\Users\\\\Michael\\\\Desktop\\\\bb-scrape\\\\scraped_sheet.xlsx\"\n",
    "os.getcwd()\n",
    "df = pd.read_excel(wbPath)\n",
    "df"
   ]
  },
  {
   "cell_type": "markdown",
   "metadata": {},
   "source": [
    "### Daftar Toko berdasarkan Lokasi"
   ]
  },
  {
   "cell_type": "code",
   "execution_count": null,
   "metadata": {},
   "outputs": [],
   "source": [
    "locationSet = set(df[\"Location\"].to_numpy())\n",
    "locationAll = df[\"Location\"].to_numpy()\n",
    "shopNumpy = df[\"Shop Name\"].to_numpy()\n",
    "\n",
    "locationTupleArray = []\n",
    "locationCountTupleArray = []\n",
    "\n",
    "for ls in locationSet:\n",
    "    counter = 0\n",
    "    visitedShop = []\n",
    "    for num, la in enumerate(locationAll):\n",
    "        if ls == la and shopNumpy[num] not in visitedShop:\n",
    "            counter+=1\n",
    "            visitedShop.append(shopNumpy[num])\n",
    "    \n",
    "            locationTupleArray.append((ls, shopNumpy[num]))\n",
    "    locationCountTupleArray.append((ls, counter))\n",
    "    \n",
    "ltSet = sorted(set(locationTupleArray), key=locationTupleArray.index)\n",
    "\n",
    "dfSL = pd.DataFrame(ltSet, columns =['Location', 'Shop Name'])\n",
    "dfSL.groupby(['Location', 'Shop Name']).count()"
   ]
  },
  {
   "cell_type": "markdown",
   "metadata": {},
   "source": [
    "### Total Jumlah Toko berdasarkan Lokasi"
   ]
  },
  {
   "cell_type": "code",
   "execution_count": null,
   "metadata": {},
   "outputs": [],
   "source": [
    "pd.DataFrame(locationCountTupleArray, columns=['Location', 'Jumlah Toko']).sort_values(by=\"Jumlah Toko\", ascending=False)"
   ]
  },
  {
   "cell_type": "markdown",
   "metadata": {},
   "source": [
    "### Jumlah produk di setiap toko"
   ]
  },
  {
   "cell_type": "code",
   "execution_count": null,
   "metadata": {},
   "outputs": [],
   "source": [
    "df.groupby('Shop Name')['Shop Name'].count().sort_values(ascending=False)"
   ]
  },
  {
   "cell_type": "markdown",
   "metadata": {},
   "source": [
    "### Produk Setiap Toko"
   ]
  },
  {
   "cell_type": "code",
   "execution_count": null,
   "metadata": {},
   "outputs": [],
   "source": [
    "shopArray = df['Shop Name'].drop_duplicates().to_numpy()\n",
    "shopArrayAll = df['Shop Name'].to_numpy()\n",
    "productArray = df['Product Name'].to_numpy()\n",
    "\n",
    "tupleArray = []\n",
    "\n",
    "for shop in shopArray:\n",
    "    for num, product in enumerate(productArray):\n",
    "        if shop == shopArrayAll[num]:\n",
    "            tupleArray.append((shop, product))\n",
    "            \n",
    "tSet = sorted(set(tupleArray), key=tupleArray.index)\n",
    "\n",
    "dfSL = pd.DataFrame(tSet, columns =['Shop', 'Product'])\n",
    "dfSL.set_index(['Shop', 'Product'])"
   ]
  },
  {
   "cell_type": "markdown",
   "metadata": {},
   "source": [
    "### Total Jumlah Toko di BB"
   ]
  },
  {
   "cell_type": "code",
   "execution_count": null,
   "metadata": {},
   "outputs": [],
   "source": [
    "countShop = df['Shop Name'].drop_duplicates().count()\n",
    "print(f\"Jumlah Toko: {countShop}\")"
   ]
  },
  {
   "cell_type": "markdown",
   "metadata": {},
   "source": [
    "### Toko yang sudah verif dan belum"
   ]
  },
  {
   "cell_type": "code",
   "execution_count": null,
   "metadata": {},
   "outputs": [],
   "source": [
    "print(df.groupby(['Shop Verified', 'Shop Name'])['Shop Verified'].sum())\n",
    "# ignore sum number."
   ]
  },
  {
   "cell_type": "markdown",
   "metadata": {},
   "source": [
    "### Jenis Produk yang sudah ada"
   ]
  },
  {
   "cell_type": "code",
   "execution_count": null,
   "metadata": {},
   "outputs": [],
   "source": [
    "categoriesList = ['Konstruksi', 'Perikanan', 'Perkebunan', 'Pertanian', 'Peternakan', 'Tekstil', 'Perawatan Tubuh', 'Elektronik', 'Kerajinan & Aksesoris']\n",
    "categoryNumpy = df['Category'].to_numpy()\n",
    "\n",
    "categoryTupleList = []\n",
    "\n",
    "for category in categoriesList:\n",
    "    counter = 0\n",
    "    for cn in categoryNumpy:\n",
    "        if category == cn:\n",
    "            counter+=1\n",
    "    \n",
    "    categoryTupleList.append((category, counter))\n",
    "    \n",
    "dfCategory = pd.DataFrame(categoryTupleList, columns=[\"Category\", \"Count\"])\n",
    "dfCategory.sort_values(by=\"Count\", ascending=False)"
   ]
  },
  {
   "cell_type": "markdown",
   "metadata": {},
   "source": [
    "### Jumlah Subkategori"
   ]
  },
  {
   "cell_type": "code",
   "execution_count": null,
   "metadata": {},
   "outputs": [],
   "source": [
    "subCategoryNumpy = df['SubCategory'].to_numpy()\n",
    "subCategorySet = set(subCategoryNumpy)\n",
    "\n",
    "subCategoryTupleArray = []\n",
    "\n",
    "for scs in subCategorySet:\n",
    "    count = 0\n",
    "    for scn in subCategoryNumpy:\n",
    "        if scs == scn:\n",
    "            count+=1\n",
    "    \n",
    "    subCategoryTupleArray.append((scs, count))\n",
    "    \n",
    "dfSubCategory = pd.DataFrame(subCategoryTupleArray, columns=[\"SubCategory\", \"Count\"])\n",
    "dfSubCategory.sort_values(by=\"Count\", ascending=False)"
   ]
  },
  {
   "cell_type": "markdown",
   "metadata": {},
   "source": [
    "### Jumlah SubSubCategory"
   ]
  },
  {
   "cell_type": "code",
   "execution_count": null,
   "metadata": {},
   "outputs": [],
   "source": [
    "subSubCategoryNumpy = df['SubSubCategory'].to_numpy()\n",
    "subSubCategorySet = set(subSubCategoryNumpy)\n",
    "\n",
    "subSubCategoryTupleArray = []\n",
    "\n",
    "for scs in subSubCategorySet:\n",
    "    count = 0\n",
    "    for index, scn in enumerate(subSubCategoryNumpy):\n",
    "        if scs == scn:\n",
    "            count+=1\n",
    "            lastIndex = index\n",
    "    \n",
    "    subSubCategoryTupleArray.append((categoryNumpy[lastIndex],subCategoryNumpy[lastIndex], scs, count))\n",
    "\n",
    "sscSet = sorted(set(subSubCategoryTupleArray), key=subSubCategoryTupleArray.index)\n",
    "\n",
    "dfSubSubCategory = pd.DataFrame(sscSet, columns=[\"Category\", \"SubCategory\", \"SubSubCategory\", \"Count\"])\n",
    "dfSubSubCategory.sort_values(by=['Category', 'SubCategory', 'Count'], ascending=True)\n",
    "\n",
    "dfSubSubCategory.groupby([\"Category\", \"SubCategory\", \"SubSubCategory\", \"Count\"]).sum()"
   ]
  },
  {
   "cell_type": "code",
   "execution_count": null,
   "metadata": {},
   "outputs": [],
   "source": [
    "print(dfSubSubCategory.groupby([\"Category\", \"SubCategory\"]).sum(\"Count\"))"
   ]
  },
  {
   "cell_type": "code",
   "execution_count": null,
   "metadata": {},
   "outputs": [],
   "source": [
    "# !git add .\n",
    "# !git commit -m \"Pandas\"\n",
    "# !git push -f origin master"
   ]
  }
 ],
 "metadata": {
  "kernelspec": {
   "display_name": "Python 3",
   "language": "python",
   "name": "python3"
  },
  "language_info": {
   "codemirror_mode": {
    "name": "ipython",
    "version": 3
   },
   "file_extension": ".py",
   "mimetype": "text/x-python",
   "name": "python",
   "nbconvert_exporter": "python",
   "pygments_lexer": "ipython3",
   "version": "3.8.5"
  }
 },
 "nbformat": 4,
 "nbformat_minor": 4
}
